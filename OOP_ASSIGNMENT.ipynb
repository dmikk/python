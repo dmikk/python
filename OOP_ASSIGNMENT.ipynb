{
 "cells": [
  {
   "cell_type": "code",
   "execution_count": 1,
   "metadata": {},
   "outputs": [],
   "source": [
    " \n",
    "    \n",
    "#deine a class and give it an attribute    \n",
    "class SampleClass:\n",
    "  pass"
   ]
  },
  {
   "cell_type": "code",
   "execution_count": 3,
   "metadata": {},
   "outputs": [],
   "source": [
    "#define a class,give it an attribute,use init method to create object attributes.this object will be created later \n",
    "class Dog:\n",
    "    Species = 'Mammal'\n",
    "    def __init__(self, name, age):\n",
    "        self.name = name\n",
    "        self.age = age"
   ]
  },
  {
   "cell_type": "code",
   "execution_count": 4,
   "metadata": {},
   "outputs": [],
   "source": [
    "#instantiate SampleClass object,no parameter is passed here\n",
    "Sample = SampleClass()"
   ]
  },
  {
   "cell_type": "code",
   "execution_count": 12,
   "metadata": {},
   "outputs": [],
   "source": [
    "#Instantiate the Dog object\n",
    "philo = Dog(\"Philo\", 5)\n",
    "mikey = Dog(\"Mikey\", 6)\n",
    "ben = Dog(\"tolu\",9)\n",
    "me = Dog(\"jid\",7)\n",
    "ds = Dog(\"nb\",5)"
   ]
  },
  {
   "cell_type": "code",
   "execution_count": 13,
   "metadata": {},
   "outputs": [
    {
     "name": "stdout",
     "output_type": "stream",
     "text": [
      "Mikey 6\n",
      "tolu 9\n",
      "jid 7\n",
      "nb 5\n"
     ]
    }
   ],
   "source": [
    "#using the object(instance of the class) created to  access the class and object attributes using print method\n",
    "print(mikey.name,mikey.age)\n",
    "print(ben.name,ben.age)\n",
    "print(me.name,me.age)\n",
    "print(ds.name,ds.age)"
   ]
  },
  {
   "cell_type": "code",
   "execution_count": 3,
   "metadata": {},
   "outputs": [
    {
     "name": "stdout",
     "output_type": "stream",
     "text": [
      "This is the list out of the listed ages 9\n"
     ]
    }
   ],
   "source": [
    "\n",
    "\n",
    "\n",
    "def get_biggest_number(*ages):\n",
    "    u = max(ages)\n",
    "    print(\"This is the list out of the listed ages\" , u)\n",
    "       \n",
    "    \n",
    "get_biggest_number(4,3,8,9)    "
   ]
  },
  {
   "cell_type": "code",
   "execution_count": 5,
   "metadata": {},
   "outputs": [
    {
     "name": "stdout",
     "output_type": "stream",
     "text": [
      "Mikey is 6 years old\n",
      "Mikey says Gruff Gruff\n",
      "Mohr is 1 years old\n",
      "Mohr says bark bark\n"
     ]
    }
   ],
   "source": [
    "#object method\n",
    "class Dog:\n",
    "\n",
    "    # Class Attribute\n",
    "    species = 'mammal'\n",
    "\n",
    "    # Initializer / Object Attributes\n",
    "    def __init__(self, name, age):\n",
    "        self.name = name\n",
    "        self.age = age\n",
    "\n",
    "    # Object method\n",
    "    def description(self):\n",
    "        return \"{} is {} years old\".format(self.name, self.age)\n",
    "\n",
    "    # Object method\n",
    "    def speak(self, sound):\n",
    "        return \"{} says {}\".format(self.name, sound)\n",
    "    \n",
    "    def description2(self):\n",
    "        return \"{} is {} years old\".format(self.name, self.age)\n",
    "\n",
    "    # Object method\n",
    "    def speak2(self, sound):\n",
    "        return \"{} says {}\".format(self.name, sound)\n",
    "\n",
    "# Instantiate the Dog object\n",
    "mikey = Dog(\"Mikey\", 6)\n",
    "\n",
    "# call our object methods\n",
    "print(mikey.description())\n",
    "\n",
    "print(mikey.speak(\"Gruff Gruff\"))\n",
    "\n",
    "Lucky = Dog(\"Mohr\", 1)\n",
    "\n",
    "# call our object methods\n",
    "print(Lucky.description())\n",
    "\n",
    "print(Lucky.speak2(\"bark bark\"))\n",
    "\n"
   ]
  },
  {
   "cell_type": "code",
   "execution_count": 4,
   "metadata": {},
   "outputs": [
    {
     "name": "stdout",
     "output_type": "stream",
     "text": [
      "Fer is a red convertible worth $60000.00.\n",
      "Jump is a blue van worth $10000.00.\n"
     ]
    }
   ],
   "source": [
    "class Vehicle:\n",
    "    name = \"\"\n",
    "    kind = \"car\"\n",
    "    color = \"\"\n",
    "    value = 100.00\n",
    "    def description(self):\n",
    "        desc_str = \"%s is a %s %s worth $%.2f.\" % (self.name, self.color, self.kind, self.value)\n",
    "        return desc_str\n",
    " \n",
    "car1 = Vehicle()\n",
    "car1.name=\"Fer\"\n",
    "car1.color=\"red\"\n",
    "car1.kind=\"convertible\"\n",
    "car1.value=60000\n",
    "\n",
    "car2 = Vehicle()\n",
    "car2.name=\"Jump\"\n",
    "car2.color=\"blue\"\n",
    "car2.kind=\"van\"\n",
    "car2.value=10000\n",
    "\n",
    "# test code\n",
    "print(car1.description())\n",
    "print(car2.description())"
   ]
  },
  {
   "cell_type": "code",
   "execution_count": null,
   "metadata": {},
   "outputs": [],
   "source": []
  }
 ],
 "metadata": {
  "kernelspec": {
   "display_name": "Python 3",
   "language": "python",
   "name": "python3"
  },
  "language_info": {
   "codemirror_mode": {
    "name": "ipython",
    "version": 3
   },
   "file_extension": ".py",
   "mimetype": "text/x-python",
   "name": "python",
   "nbconvert_exporter": "python",
   "pygments_lexer": "ipython3",
   "version": "3.6.4"
  }
 },
 "nbformat": 4,
 "nbformat_minor": 2
}
